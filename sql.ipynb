{
 "cells": [
  {
   "cell_type": "code",
   "execution_count": null,
   "metadata": {},
   "outputs": [],
   "source": [
    "# create some tables in database system for sql practice "
   ]
  },
  {
   "cell_type": "code",
   "execution_count": 1,
   "metadata": {},
   "outputs": [],
   "source": [
    "# import necessary lybraries\n",
    "\n",
    "import pandas as pd\n",
    "import numpy as np\n",
    "\n",
    "\n",
    "# import connection \n",
    "\n",
    "import sqlite3\n",
    "conn = sqlite3.connect('pokemon.db')\n",
    "\n",
    "cur  = conn.cursor()"
   ]
  },
  {
   "cell_type": "code",
   "execution_count": 4,
   "metadata": {},
   "outputs": [
    {
     "ename": "OperationalError",
     "evalue": "table emp already exists",
     "output_type": "error",
     "traceback": [
      "\u001b[0;31m---------------------------------------------------------------------------\u001b[0m",
      "\u001b[0;31mOperationalError\u001b[0m                          Traceback (most recent call last)",
      "\u001b[0;32m<ipython-input-4-5a41e3e7dc58>\u001b[0m in \u001b[0;36m<module>\u001b[0;34m\u001b[0m\n\u001b[1;32m      1\u001b[0m cur.execute(\"\"\" create table emp(empno integer primary key,\n\u001b[1;32m      2\u001b[0m \u001b[0mename\u001b[0m \u001b[0mtext\u001b[0m \u001b[0;32mnot\u001b[0m \u001b[0mnull\u001b[0m\u001b[0;34m,\u001b[0m \u001b[0mjob\u001b[0m \u001b[0mtext\u001b[0m\u001b[0;34m,\u001b[0m\u001b[0mmgr\u001b[0m \u001b[0minteger\u001b[0m\u001b[0;34m,\u001b[0m\u001b[0;34m\u001b[0m\u001b[0;34m\u001b[0m\u001b[0m\n\u001b[0;32m----> 3\u001b[0;31m hiredate numeric,sal integer,comm integer,deptno integer not null);\"\"\")\n\u001b[0m",
      "\u001b[0;31mOperationalError\u001b[0m: table emp already exists"
     ]
    }
   ],
   "source": [
    "cur.execute(\"\"\" create table emp(empno integer primary key,\n",
    "ename text not null, job text,mgr integer,\n",
    "hiredate numeric,sal integer,comm integer,deptno integer not null);\"\"\")\n"
   ]
  },
  {
   "cell_type": "code",
   "execution_count": 7,
   "metadata": {},
   "outputs": [
    {
     "data": {
      "text/plain": [
       "<sqlite3.Cursor at 0x7f8f1c3f8ea0>"
      ]
     },
     "execution_count": 7,
     "metadata": {},
     "output_type": "execute_result"
    }
   ],
   "source": [
    "cur.execute(\"\"\" create table dept(deptno integer primary key,\n",
    "dname text not null, loc text);\"\"\")"
   ]
  },
  {
   "cell_type": "code",
   "execution_count": 22,
   "metadata": {},
   "outputs": [
    {
     "data": {
      "text/plain": [
       "[(10, 'ACCOUNTING', 'NEW YORK'),\n",
       " (20, 'RESEARCH', 'DALLAS'),\n",
       " (30, 'SALES', 'CHICAGO'),\n",
       " (40, 'OPERATIONS', 'BOSTON')]"
      ]
     },
     "execution_count": 22,
     "metadata": {},
     "output_type": "execute_result"
    }
   ],
   "source": [
    "cur.execute(\"\"\"select * from dept;\"\"\")\n",
    "cur.fetchall()"
   ]
  },
  {
   "cell_type": "code",
   "execution_count": 10,
   "metadata": {},
   "outputs": [
    {
     "data": {
      "text/plain": [
       "[(7369, 'SMITH', 'CLERK', 7902, '17-DEC-80', 800, None, 20),\n",
       " (7499, 'ALLEN', 'SALESMAN', 7698, '20-FEB-81', 1600, 300, 30),\n",
       " (7521, 'WARD', 'SALESMAN', 7698, '22-FEB-81', 1250, 500, 30),\n",
       " (7566, 'JONES', 'MANAGER', 7839, '2-APR-81', 2975, None, 20),\n",
       " (7654, 'MARTIN', 'SALESMAN', 7839, '2-APR-81', 1250, 1400, 30),\n",
       " (7902, 'ford', 'ANALYST', 7566, '3-DEC-81', 3000, None, 20)]"
      ]
     },
     "execution_count": 10,
     "metadata": {},
     "output_type": "execute_result"
    }
   ],
   "source": [
    "cur.execute(\"select * from emp;\")\n",
    "cur.fetchall()"
   ]
  },
  {
   "cell_type": "code",
   "execution_count": 11,
   "metadata": {},
   "outputs": [
    {
     "data": {
      "text/plain": [
       "<sqlite3.Cursor at 0x7f8f1c3f8ea0>"
      ]
     },
     "execution_count": 11,
     "metadata": {},
     "output_type": "execute_result"
    }
   ],
   "source": [
    "cur.execute(\"\"\" update emp \n",
    "set ename = 'FORD'\n",
    "where empno = 7902\"\"\")"
   ]
  },
  {
   "cell_type": "code",
   "execution_count": 9,
   "metadata": {},
   "outputs": [
    {
     "data": {
      "text/plain": [
       "<sqlite3.Cursor at 0x7f8f1c3f8ea0>"
      ]
     },
     "execution_count": 9,
     "metadata": {},
     "output_type": "execute_result"
    }
   ],
   "source": [
    "# insert dummy values into emp table for practice \n",
    "\n",
    "cur.execute(\"\"\" insert into emp(empno,ename,job,mgr,hiredate,sal,deptno) \n",
    "values(7369,'SMITH','CLERK',7902,'17-DEC-80',800,20);\"\"\")\n",
    "\n",
    "cur.execute(\"\"\" insert into emp(empno,ename,job,mgr,hiredate,sal,comm,deptno) \n",
    "values(7499,'ALLEN','SALESMAN',7698,'20-FEB-81',1600,300,30);\"\"\")\n",
    "\n",
    "cur.execute(\"\"\" insert into emp(empno,ename,job,mgr,hiredate,sal,comm,deptno) \n",
    "values(7521,'WARD','SALESMAN',7698,'22-FEB-81',1250,500,30);\"\"\");\n",
    "\n",
    "cur.execute(\"\"\" insert into emp(empno,ename,job,mgr,hiredate,sal,comm,deptno) \n",
    "values(7654,'MARTIN','SALESMAN',7839,'2-APR-81',1250,1400,30);\"\"\")\n",
    "\n",
    "cur.execute(\"\"\" insert into emp(empno,ename,job,mgr,hiredate,sal,deptno) \n",
    "values(7566,'JONES','MANAGER',7839,'2-APR-81',2975,20);\"\"\");\n",
    "\n",
    "cur.execute(\"\"\" insert into emp(empno,ename,job,mgr,hiredate,sal,deptno) \n",
    "values(7902,'ford','ANALYST',7566,'3-DEC-81',3000,20);\"\"\")"
   ]
  },
  {
   "cell_type": "code",
   "execution_count": 8,
   "metadata": {},
   "outputs": [],
   "source": [
    "# insert dummy values into dept table for practices\n",
    "\n",
    "cur.execute(\"\"\" insert into dept(deptno,dname,loc) values(10,'ACCOUNTING','NEW YORK')\"\"\");\n",
    "cur.execute(\"\"\" insert into dept(deptno,dname,loc) values(20,'RESEARCH','DALLAS')\"\"\");\n",
    "cur.execute(\"\"\" insert into dept(deptno,dname,loc) values(30,'SALES','CHICAGO')\"\"\");\n",
    "cur.execute(\"\"\" insert into dept(deptno,dname,loc) values(40,'OPERATIONS','BOSTON')\"\"\");"
   ]
  },
  {
   "cell_type": "code",
   "execution_count": 12,
   "metadata": {},
   "outputs": [
    {
     "data": {
      "text/html": [
       "<div>\n",
       "<style scoped>\n",
       "    .dataframe tbody tr th:only-of-type {\n",
       "        vertical-align: middle;\n",
       "    }\n",
       "\n",
       "    .dataframe tbody tr th {\n",
       "        vertical-align: top;\n",
       "    }\n",
       "\n",
       "    .dataframe thead th {\n",
       "        text-align: right;\n",
       "    }\n",
       "</style>\n",
       "<table border=\"1\" class=\"dataframe\">\n",
       "  <thead>\n",
       "    <tr style=\"text-align: right;\">\n",
       "      <th></th>\n",
       "      <th>empno</th>\n",
       "      <th>ename</th>\n",
       "      <th>job</th>\n",
       "      <th>mgr</th>\n",
       "      <th>hiredate</th>\n",
       "      <th>sal</th>\n",
       "      <th>comm</th>\n",
       "      <th>deptno</th>\n",
       "    </tr>\n",
       "  </thead>\n",
       "  <tbody>\n",
       "    <tr>\n",
       "      <td>0</td>\n",
       "      <td>7566</td>\n",
       "      <td>JONES</td>\n",
       "      <td>MANAGER</td>\n",
       "      <td>7839</td>\n",
       "      <td>2-APR-81</td>\n",
       "      <td>2975</td>\n",
       "      <td>NaN</td>\n",
       "      <td>20</td>\n",
       "    </tr>\n",
       "    <tr>\n",
       "      <td>1</td>\n",
       "      <td>7654</td>\n",
       "      <td>MARTIN</td>\n",
       "      <td>SALESMAN</td>\n",
       "      <td>7839</td>\n",
       "      <td>2-APR-81</td>\n",
       "      <td>1250</td>\n",
       "      <td>1400.0</td>\n",
       "      <td>30</td>\n",
       "    </tr>\n",
       "  </tbody>\n",
       "</table>\n",
       "</div>"
      ],
      "text/plain": [
       "   empno   ename       job   mgr  hiredate   sal    comm  deptno\n",
       "0   7566   JONES   MANAGER  7839  2-APR-81  2975     NaN      20\n",
       "1   7654  MARTIN  SALESMAN  7839  2-APR-81  1250  1400.0      30"
      ]
     },
     "execution_count": 12,
     "metadata": {},
     "output_type": "execute_result"
    }
   ],
   "source": [
    "# practice sub queries on emp and dept table \n",
    "\n",
    "\n",
    "cur.execute(\"\"\" SELECT * FROM emp \n",
    "WHERE mgr = (SELECT mgr FROM emp WHERE ename = 'JONES');\n",
    "\"\"\")\n",
    "\n",
    "df_sql1 = pd.DataFrame(cur.fetchall(),columns =[ item[0] for item in cur.description ])\n",
    "df_sql1"
   ]
  },
  {
   "cell_type": "code",
   "execution_count": 61,
   "metadata": {},
   "outputs": [
    {
     "data": {
      "text/html": [
       "<div>\n",
       "<style scoped>\n",
       "    .dataframe tbody tr th:only-of-type {\n",
       "        vertical-align: middle;\n",
       "    }\n",
       "\n",
       "    .dataframe tbody tr th {\n",
       "        vertical-align: top;\n",
       "    }\n",
       "\n",
       "    .dataframe thead th {\n",
       "        text-align: right;\n",
       "    }\n",
       "</style>\n",
       "<table border=\"1\" class=\"dataframe\">\n",
       "  <thead>\n",
       "    <tr style=\"text-align: right;\">\n",
       "      <th></th>\n",
       "      <th>empno</th>\n",
       "      <th>ename</th>\n",
       "      <th>job</th>\n",
       "      <th>mgr</th>\n",
       "      <th>hiredate</th>\n",
       "      <th>sal</th>\n",
       "      <th>comm</th>\n",
       "      <th>deptno</th>\n",
       "    </tr>\n",
       "  </thead>\n",
       "  <tbody>\n",
       "    <tr>\n",
       "      <td>0</td>\n",
       "      <td>7902</td>\n",
       "      <td>FORD</td>\n",
       "      <td>ANALYST</td>\n",
       "      <td>7566</td>\n",
       "      <td>3-DEC-81</td>\n",
       "      <td>3000</td>\n",
       "      <td>None</td>\n",
       "      <td>20</td>\n",
       "    </tr>\n",
       "  </tbody>\n",
       "</table>\n",
       "</div>"
      ],
      "text/plain": [
       "   empno ename      job   mgr  hiredate   sal  comm  deptno\n",
       "0   7902  FORD  ANALYST  7566  3-DEC-81  3000  None      20"
      ]
     },
     "execution_count": 61,
     "metadata": {},
     "output_type": "execute_result"
    }
   ],
   "source": [
    "# pairwise comparison\n",
    "\n",
    "cur.execute(\"\"\" SELECT * FROM emp \n",
    "WHERE (deptno, mgr) = (SELECT deptno, mgr FROM emp WHERE ename = 'FORD');\n",
    "\"\"\")\n",
    "\n",
    "df_sql2 = pd.DataFrame(cur.fetchall(),columns = [ item[0] for item in cur.description ] )\n",
    "df_sql2"
   ]
  },
  {
   "cell_type": "code",
   "execution_count": 60,
   "metadata": {},
   "outputs": [
    {
     "data": {
      "text/html": [
       "<div>\n",
       "<style scoped>\n",
       "    .dataframe tbody tr th:only-of-type {\n",
       "        vertical-align: middle;\n",
       "    }\n",
       "\n",
       "    .dataframe tbody tr th {\n",
       "        vertical-align: top;\n",
       "    }\n",
       "\n",
       "    .dataframe thead th {\n",
       "        text-align: right;\n",
       "    }\n",
       "</style>\n",
       "<table border=\"1\" class=\"dataframe\">\n",
       "  <thead>\n",
       "    <tr style=\"text-align: right;\">\n",
       "      <th></th>\n",
       "      <th>empno</th>\n",
       "      <th>ename</th>\n",
       "      <th>job</th>\n",
       "      <th>mgr</th>\n",
       "      <th>hiredate</th>\n",
       "      <th>sal</th>\n",
       "      <th>comm</th>\n",
       "      <th>deptno</th>\n",
       "    </tr>\n",
       "  </thead>\n",
       "  <tbody>\n",
       "    <tr>\n",
       "      <td>0</td>\n",
       "      <td>7902</td>\n",
       "      <td>FORD</td>\n",
       "      <td>ANALYST</td>\n",
       "      <td>7566</td>\n",
       "      <td>3-DEC-81</td>\n",
       "      <td>3000</td>\n",
       "      <td>None</td>\n",
       "      <td>20</td>\n",
       "    </tr>\n",
       "  </tbody>\n",
       "</table>\n",
       "</div>"
      ],
      "text/plain": [
       "   empno ename      job   mgr  hiredate   sal  comm  deptno\n",
       "0   7902  FORD  ANALYST  7566  3-DEC-81  3000  None      20"
      ]
     },
     "execution_count": 60,
     "metadata": {},
     "output_type": "execute_result"
    }
   ],
   "source": [
    "# non pairwise comparison\n",
    "\n",
    "cur.execute(\"\"\" SELECT * FROM emp \n",
    "WHERE deptno = (SELECT deptno FROM emp WHERE ename='FORD') \n",
    "AND mgr = (SELECT mgr FROM emp WHERE ename='FORD')\n",
    "\"\"\")\n",
    "\n",
    "df_sql3 = pd.DataFrame(cur.fetchall(),columns = [ item[0] for item in cur.description ] )\n",
    "df_sql3"
   ]
  },
  {
   "cell_type": "code",
   "execution_count": 52,
   "metadata": {},
   "outputs": [
    {
     "data": {
      "text/html": [
       "<div>\n",
       "<style scoped>\n",
       "    .dataframe tbody tr th:only-of-type {\n",
       "        vertical-align: middle;\n",
       "    }\n",
       "\n",
       "    .dataframe tbody tr th {\n",
       "        vertical-align: top;\n",
       "    }\n",
       "\n",
       "    .dataframe thead th {\n",
       "        text-align: right;\n",
       "    }\n",
       "</style>\n",
       "<table border=\"1\" class=\"dataframe\">\n",
       "  <thead>\n",
       "    <tr style=\"text-align: right;\">\n",
       "      <th></th>\n",
       "      <th>empno</th>\n",
       "      <th>ename</th>\n",
       "      <th>job</th>\n",
       "      <th>mgr</th>\n",
       "      <th>hiredate</th>\n",
       "      <th>sal</th>\n",
       "      <th>comm</th>\n",
       "      <th>deptno</th>\n",
       "    </tr>\n",
       "  </thead>\n",
       "  <tbody>\n",
       "    <tr>\n",
       "      <td>0</td>\n",
       "      <td>7566</td>\n",
       "      <td>JONES</td>\n",
       "      <td>MANAGER</td>\n",
       "      <td>7839</td>\n",
       "      <td>2-APR-81</td>\n",
       "      <td>2975</td>\n",
       "      <td>None</td>\n",
       "      <td>20</td>\n",
       "    </tr>\n",
       "    <tr>\n",
       "      <td>1</td>\n",
       "      <td>7902</td>\n",
       "      <td>FORD</td>\n",
       "      <td>ANALYST</td>\n",
       "      <td>7566</td>\n",
       "      <td>3-DEC-81</td>\n",
       "      <td>3000</td>\n",
       "      <td>None</td>\n",
       "      <td>20</td>\n",
       "    </tr>\n",
       "  </tbody>\n",
       "</table>\n",
       "</div>"
      ],
      "text/plain": [
       "   empno  ename      job   mgr  hiredate   sal  comm  deptno\n",
       "0   7566  JONES  MANAGER  7839  2-APR-81  2975  None      20\n",
       "1   7902   FORD  ANALYST  7566  3-DEC-81  3000  None      20"
      ]
     },
     "execution_count": 52,
     "metadata": {},
     "output_type": "execute_result"
    }
   ],
   "source": [
    "# multi row sub query example \n",
    "\n",
    "cur.execute(\"\"\" SELECT * FROM emp \n",
    "WHERE deptno IN (SELECT deptno FROM emp WHERE job='CLERK') \n",
    "AND job <> 'CLERK'; \"\"\")\n",
    "\n",
    "df_sql4 = pd.DataFrame(cur.fetchall(),columns = columns )\n",
    "df_sql4"
   ]
  },
  {
   "cell_type": "code",
   "execution_count": 58,
   "metadata": {},
   "outputs": [
    {
     "data": {
      "text/html": [
       "<div>\n",
       "<style scoped>\n",
       "    .dataframe tbody tr th:only-of-type {\n",
       "        vertical-align: middle;\n",
       "    }\n",
       "\n",
       "    .dataframe tbody tr th {\n",
       "        vertical-align: top;\n",
       "    }\n",
       "\n",
       "    .dataframe thead th {\n",
       "        text-align: right;\n",
       "    }\n",
       "</style>\n",
       "<table border=\"1\" class=\"dataframe\">\n",
       "  <thead>\n",
       "    <tr style=\"text-align: right;\">\n",
       "      <th></th>\n",
       "      <th>deptno</th>\n",
       "    </tr>\n",
       "  </thead>\n",
       "  <tbody>\n",
       "    <tr>\n",
       "      <td>0</td>\n",
       "      <td>20</td>\n",
       "    </tr>\n",
       "  </tbody>\n",
       "</table>\n",
       "</div>"
      ],
      "text/plain": [
       "   deptno\n",
       "0      20"
      ]
     },
     "execution_count": 58,
     "metadata": {},
     "output_type": "execute_result"
    }
   ],
   "source": [
    "# Scaler Sub Query example\n",
    "\n",
    "cur.execute(\"\"\" SELECT  deptno FROM emp WHERE ename='FORD'; \"\"\")\n",
    "\n",
    "df_sql5 = pd.DataFrame(cur.fetchall(),columns = [item[0] for item in cur.description] )\n",
    "df_sql5"
   ]
  },
  {
   "cell_type": "code",
   "execution_count": 57,
   "metadata": {},
   "outputs": [
    {
     "data": {
      "text/plain": [
       "(('deptno', None, None, None, None, None, None),)"
      ]
     },
     "execution_count": 57,
     "metadata": {},
     "output_type": "execute_result"
    }
   ],
   "source": [
    "cur.description"
   ]
  },
  {
   "cell_type": "code",
   "execution_count": 47,
   "metadata": {},
   "outputs": [
    {
     "data": {
      "text/plain": [
       "['empno', 'ename', 'job', 'mgr', 'hiredate', 'sal', 'comm', 'deptno']"
      ]
     },
     "execution_count": 47,
     "metadata": {},
     "output_type": "execute_result"
    }
   ],
   "source": [
    "columns = [ item[0] for item in cur.description ]\n",
    "columns"
   ]
  },
  {
   "cell_type": "code",
   "execution_count": 5,
   "metadata": {},
   "outputs": [
    {
     "data": {
      "text/html": [
       "<div>\n",
       "<style scoped>\n",
       "    .dataframe tbody tr th:only-of-type {\n",
       "        vertical-align: middle;\n",
       "    }\n",
       "\n",
       "    .dataframe tbody tr th {\n",
       "        vertical-align: top;\n",
       "    }\n",
       "\n",
       "    .dataframe thead th {\n",
       "        text-align: right;\n",
       "    }\n",
       "</style>\n",
       "<table border=\"1\" class=\"dataframe\">\n",
       "  <thead>\n",
       "    <tr style=\"text-align: right;\">\n",
       "      <th></th>\n",
       "      <th>empno</th>\n",
       "      <th>ename</th>\n",
       "      <th>job</th>\n",
       "      <th>mgr</th>\n",
       "      <th>hiredate</th>\n",
       "      <th>sal</th>\n",
       "      <th>comm</th>\n",
       "      <th>deptno</th>\n",
       "    </tr>\n",
       "  </thead>\n",
       "  <tbody>\n",
       "  </tbody>\n",
       "</table>\n",
       "</div>"
      ],
      "text/plain": [
       "Empty DataFrame\n",
       "Columns: [empno, ename, job, mgr, hiredate, sal, comm, deptno]\n",
       "Index: []"
      ]
     },
     "execution_count": 5,
     "metadata": {},
     "output_type": "execute_result"
    }
   ],
   "source": [
    "# Inline View Sub Query example\n",
    "\n",
    "cur.execute(\"\"\" SELECT * FROM (SELECT * FROM emp ORDER BY sal DESC); \"\"\")\n",
    "\n",
    "df_sql6 = pd.DataFrame(cur.fetchall(),columns = [ item[0] for item in cur.description ] )\n",
    "df_sql6"
   ]
  },
  {
   "cell_type": "code",
   "execution_count": 39,
   "metadata": {},
   "outputs": [
    {
     "ename": "OperationalError",
     "evalue": "no such column: e.ename",
     "output_type": "error",
     "traceback": [
      "\u001b[0;31m---------------------------------------------------------------------------\u001b[0m",
      "\u001b[0;31mOperationalError\u001b[0m                          Traceback (most recent call last)",
      "\u001b[0;32m<ipython-input-39-aa4364b3a664>\u001b[0m in \u001b[0;36m<module>\u001b[0;34m\u001b[0m\n\u001b[1;32m      2\u001b[0m \u001b[0;34m\u001b[0m\u001b[0m\n\u001b[1;32m      3\u001b[0m cur.execute(\"\"\" SELECT e.ename, e.deptno, (SELECT d.dname \n\u001b[0;32m----> 4\u001b[0;31m FROM dept d WHERE d.deptno = e.deptno) department FROM emp e ; \"\"\")\n\u001b[0m\u001b[1;32m      5\u001b[0m \u001b[0;34m\u001b[0m\u001b[0m\n\u001b[1;32m      6\u001b[0m \u001b[0mdf_sql7\u001b[0m \u001b[0;34m=\u001b[0m \u001b[0mpd\u001b[0m\u001b[0;34m.\u001b[0m\u001b[0mDataFrame\u001b[0m\u001b[0;34m(\u001b[0m\u001b[0mcur\u001b[0m\u001b[0;34m.\u001b[0m\u001b[0mfetchall\u001b[0m\u001b[0;34m(\u001b[0m\u001b[0;34m)\u001b[0m\u001b[0;34m,\u001b[0m\u001b[0mcolumns\u001b[0m \u001b[0;34m=\u001b[0m \u001b[0;34m[\u001b[0m \u001b[0mitem\u001b[0m\u001b[0;34m[\u001b[0m\u001b[0;36m0\u001b[0m\u001b[0;34m]\u001b[0m \u001b[0;32mfor\u001b[0m \u001b[0mitem\u001b[0m \u001b[0;32min\u001b[0m \u001b[0mcur\u001b[0m\u001b[0;34m.\u001b[0m\u001b[0mdescription\u001b[0m \u001b[0;34m]\u001b[0m \u001b[0;34m)\u001b[0m\u001b[0;34m\u001b[0m\u001b[0;34m\u001b[0m\u001b[0m\n",
      "\u001b[0;31mOperationalError\u001b[0m: no such column: e.ename"
     ]
    }
   ],
   "source": [
    "# Co-related sub query examples\n",
    "\n",
    "cur.execute(\"\"\" SELECT e.ename, e.deptno, (SELECT d.dname \n",
    "FROM dept d WHERE d.deptno = e.deptno) department FROM emp e ; \"\"\")\n",
    "\n",
    "df_sql7 = pd.DataFrame(cur.fetchall(),columns = [ item[0] for item in cur.description ] )\n",
    "df_sql7"
   ]
  },
  {
   "cell_type": "code",
   "execution_count": 40,
   "metadata": {},
   "outputs": [
    {
     "data": {
      "text/plain": [
       "[(7369, 'SMITH', 'CLERK', 7902, '17-DEC-80', 800, None, 20),\n",
       " (7499, 'ALLEN', 'SALESMAN', 7698, '20-FEB-81', 1600, 300, 30),\n",
       " (7521, 'WARD', 'SALESMAN', 7698, '22-FEB-81', 1250, 500, 30),\n",
       " (7566, 'JONES', 'MANAGER', 7839, '2-APR-81', 2975, None, 20),\n",
       " (7654, 'MARTIN', 'SALESMAN', 7839, '2-APR-81', 1250, 1400, 30),\n",
       " (7902, 'FORD', 'ANALYST', 7566, '3-DEC-81', 3000, None, 20)]"
      ]
     },
     "execution_count": 40,
     "metadata": {},
     "output_type": "execute_result"
    }
   ],
   "source": [
    "cur.execute(\"\"\"select * from emp\"\"\").fetchall()"
   ]
  },
  {
   "cell_type": "markdown",
   "metadata": {},
   "source": [
    "# Analytical Funtions \n",
    "## COUNT(), SUM(),ROW_NUMBER(), RANK(), DENSE_RANK(), LEAD(), LAG()"
   ]
  },
  {
   "cell_type": "code",
   "execution_count": 27,
   "metadata": {},
   "outputs": [
    {
     "data": {
      "text/html": [
       "<div>\n",
       "<style scoped>\n",
       "    .dataframe tbody tr th:only-of-type {\n",
       "        vertical-align: middle;\n",
       "    }\n",
       "\n",
       "    .dataframe tbody tr th {\n",
       "        vertical-align: top;\n",
       "    }\n",
       "\n",
       "    .dataframe thead th {\n",
       "        text-align: right;\n",
       "    }\n",
       "</style>\n",
       "<table border=\"1\" class=\"dataframe\">\n",
       "  <thead>\n",
       "    <tr style=\"text-align: right;\">\n",
       "      <th></th>\n",
       "      <th>ename</th>\n",
       "      <th>deptno</th>\n",
       "      <th>sal</th>\n",
       "      <th>rank</th>\n",
       "    </tr>\n",
       "  </thead>\n",
       "  <tbody>\n",
       "    <tr>\n",
       "      <td>0</td>\n",
       "      <td>FORD</td>\n",
       "      <td>20</td>\n",
       "      <td>3000</td>\n",
       "      <td>1</td>\n",
       "    </tr>\n",
       "    <tr>\n",
       "      <td>1</td>\n",
       "      <td>JONES</td>\n",
       "      <td>20</td>\n",
       "      <td>2975</td>\n",
       "      <td>2</td>\n",
       "    </tr>\n",
       "    <tr>\n",
       "      <td>2</td>\n",
       "      <td>ALLEN</td>\n",
       "      <td>30</td>\n",
       "      <td>1600</td>\n",
       "      <td>3</td>\n",
       "    </tr>\n",
       "    <tr>\n",
       "      <td>3</td>\n",
       "      <td>WARD</td>\n",
       "      <td>30</td>\n",
       "      <td>1250</td>\n",
       "      <td>4</td>\n",
       "    </tr>\n",
       "    <tr>\n",
       "      <td>4</td>\n",
       "      <td>MARTIN</td>\n",
       "      <td>30</td>\n",
       "      <td>1250</td>\n",
       "      <td>4</td>\n",
       "    </tr>\n",
       "    <tr>\n",
       "      <td>5</td>\n",
       "      <td>SMITH</td>\n",
       "      <td>20</td>\n",
       "      <td>800</td>\n",
       "      <td>6</td>\n",
       "    </tr>\n",
       "  </tbody>\n",
       "</table>\n",
       "</div>"
      ],
      "text/plain": [
       "    ename  deptno   sal  rank\n",
       "0    FORD      20  3000     1\n",
       "1   JONES      20  2975     2\n",
       "2   ALLEN      30  1600     3\n",
       "3    WARD      30  1250     4\n",
       "4  MARTIN      30  1250     4\n",
       "5   SMITH      20   800     6"
      ]
     },
     "execution_count": 27,
     "metadata": {},
     "output_type": "execute_result"
    }
   ],
   "source": [
    "# example for Rank() function\n",
    "#Display all the employees details and display the rank of employees based on their salaries\n",
    "\n",
    "cur.execute(\"\"\"\n",
    "Select ename,deptno,sal, rank() over(order by sal desc) as rank from emp\"\"\")\n",
    "\n",
    "pd.DataFrame(cur.fetchall(),columns =[item[0] for item in cur.description])\n",
    "\n"
   ]
  },
  {
   "cell_type": "code",
   "execution_count": 3,
   "metadata": {},
   "outputs": [
    {
     "data": {
      "text/plain": [
       "[]"
      ]
     },
     "execution_count": 3,
     "metadata": {},
     "output_type": "execute_result"
    }
   ],
   "source": [
    "cur.execute(\"\"\"select * from emp\"\"\")\n",
    "cur.fetchall()"
   ]
  },
  {
   "cell_type": "code",
   "execution_count": 26,
   "metadata": {},
   "outputs": [
    {
     "data": {
      "text/html": [
       "<div>\n",
       "<style scoped>\n",
       "    .dataframe tbody tr th:only-of-type {\n",
       "        vertical-align: middle;\n",
       "    }\n",
       "\n",
       "    .dataframe tbody tr th {\n",
       "        vertical-align: top;\n",
       "    }\n",
       "\n",
       "    .dataframe thead th {\n",
       "        text-align: right;\n",
       "    }\n",
       "</style>\n",
       "<table border=\"1\" class=\"dataframe\">\n",
       "  <thead>\n",
       "    <tr style=\"text-align: right;\">\n",
       "      <th></th>\n",
       "      <th>ename</th>\n",
       "      <th>deptno</th>\n",
       "      <th>sal</th>\n",
       "      <th>dense_rank</th>\n",
       "      <th>rank</th>\n",
       "    </tr>\n",
       "  </thead>\n",
       "  <tbody>\n",
       "    <tr>\n",
       "      <td>0</td>\n",
       "      <td>FORD</td>\n",
       "      <td>20</td>\n",
       "      <td>3000</td>\n",
       "      <td>1</td>\n",
       "      <td>1</td>\n",
       "    </tr>\n",
       "    <tr>\n",
       "      <td>1</td>\n",
       "      <td>JONES</td>\n",
       "      <td>20</td>\n",
       "      <td>2975</td>\n",
       "      <td>2</td>\n",
       "      <td>2</td>\n",
       "    </tr>\n",
       "    <tr>\n",
       "      <td>2</td>\n",
       "      <td>ALLEN</td>\n",
       "      <td>30</td>\n",
       "      <td>1600</td>\n",
       "      <td>3</td>\n",
       "      <td>3</td>\n",
       "    </tr>\n",
       "    <tr>\n",
       "      <td>3</td>\n",
       "      <td>WARD</td>\n",
       "      <td>30</td>\n",
       "      <td>1250</td>\n",
       "      <td>4</td>\n",
       "      <td>4</td>\n",
       "    </tr>\n",
       "    <tr>\n",
       "      <td>4</td>\n",
       "      <td>MARTIN</td>\n",
       "      <td>30</td>\n",
       "      <td>1250</td>\n",
       "      <td>4</td>\n",
       "      <td>4</td>\n",
       "    </tr>\n",
       "    <tr>\n",
       "      <td>5</td>\n",
       "      <td>SMITH</td>\n",
       "      <td>20</td>\n",
       "      <td>800</td>\n",
       "      <td>5</td>\n",
       "      <td>6</td>\n",
       "    </tr>\n",
       "  </tbody>\n",
       "</table>\n",
       "</div>"
      ],
      "text/plain": [
       "    ename  deptno   sal  dense_rank  rank\n",
       "0    FORD      20  3000           1     1\n",
       "1   JONES      20  2975           2     2\n",
       "2   ALLEN      30  1600           3     3\n",
       "3    WARD      30  1250           4     4\n",
       "4  MARTIN      30  1250           4     4\n",
       "5   SMITH      20   800           5     6"
      ]
     },
     "execution_count": 26,
     "metadata": {},
     "output_type": "execute_result"
    }
   ],
   "source": [
    "# Dense_rank() \n",
    "\n",
    "# Displaying difference between dense_rank and rank function\n",
    "cur.execute(\"\"\"\n",
    "SELECT ename, deptno, sal, \n",
    "DENSE_RANK() OVER (ORDER BY sal DESC) dense_rank, \n",
    "RANK() OVER (ORDER BY sal DESC) rank\n",
    "FROM emp; \"\"\")\n",
    "\n",
    "\n",
    "pd.DataFrame(cur.fetchall(), columns = [ item[0] for item in cur.description])"
   ]
  },
  {
   "cell_type": "code",
   "execution_count": 30,
   "metadata": {},
   "outputs": [
    {
     "data": {
      "text/html": [
       "<div>\n",
       "<style scoped>\n",
       "    .dataframe tbody tr th:only-of-type {\n",
       "        vertical-align: middle;\n",
       "    }\n",
       "\n",
       "    .dataframe tbody tr th {\n",
       "        vertical-align: top;\n",
       "    }\n",
       "\n",
       "    .dataframe thead th {\n",
       "        text-align: right;\n",
       "    }\n",
       "</style>\n",
       "<table border=\"1\" class=\"dataframe\">\n",
       "  <thead>\n",
       "    <tr style=\"text-align: right;\">\n",
       "      <th></th>\n",
       "      <th>empno</th>\n",
       "      <th>ename</th>\n",
       "      <th>sal</th>\n",
       "      <th>row_number</th>\n",
       "    </tr>\n",
       "  </thead>\n",
       "  <tbody>\n",
       "    <tr>\n",
       "      <td>0</td>\n",
       "      <td>7902</td>\n",
       "      <td>FORD</td>\n",
       "      <td>3000</td>\n",
       "      <td>1</td>\n",
       "    </tr>\n",
       "    <tr>\n",
       "      <td>1</td>\n",
       "      <td>7566</td>\n",
       "      <td>JONES</td>\n",
       "      <td>2975</td>\n",
       "      <td>2</td>\n",
       "    </tr>\n",
       "    <tr>\n",
       "      <td>2</td>\n",
       "      <td>7499</td>\n",
       "      <td>ALLEN</td>\n",
       "      <td>1600</td>\n",
       "      <td>3</td>\n",
       "    </tr>\n",
       "    <tr>\n",
       "      <td>3</td>\n",
       "      <td>7521</td>\n",
       "      <td>WARD</td>\n",
       "      <td>1250</td>\n",
       "      <td>4</td>\n",
       "    </tr>\n",
       "    <tr>\n",
       "      <td>4</td>\n",
       "      <td>7654</td>\n",
       "      <td>MARTIN</td>\n",
       "      <td>1250</td>\n",
       "      <td>5</td>\n",
       "    </tr>\n",
       "  </tbody>\n",
       "</table>\n",
       "</div>"
      ],
      "text/plain": [
       "   empno   ename   sal  row_number\n",
       "0   7902    FORD  3000           1\n",
       "1   7566   JONES  2975           2\n",
       "2   7499   ALLEN  1600           3\n",
       "3   7521    WARD  1250           4\n",
       "4   7654  MARTIN  1250           5"
      ]
     },
     "execution_count": 30,
     "metadata": {},
     "output_type": "execute_result"
    }
   ],
   "source": [
    "# Row_number()\n",
    "\n",
    "# Display top five highest salary of employee\n",
    "\n",
    "cur.execute(\"\"\"\n",
    "SELECT empno, ename, sal, row_number \n",
    "FROM (SELECT empno, ename, sal, ROW_NUMBER( ) OVER(ORDER BY sal DESC) AS row_number FROM emp) \n",
    "WHERE row_number<=5; \"\"\")\n",
    "\n",
    "\n",
    "pd.DataFrame(cur.fetchall(),columns = [item[0] for item in cur.description])"
   ]
  },
  {
   "cell_type": "code",
   "execution_count": 31,
   "metadata": {},
   "outputs": [
    {
     "data": {
      "text/html": [
       "<div>\n",
       "<style scoped>\n",
       "    .dataframe tbody tr th:only-of-type {\n",
       "        vertical-align: middle;\n",
       "    }\n",
       "\n",
       "    .dataframe tbody tr th {\n",
       "        vertical-align: top;\n",
       "    }\n",
       "\n",
       "    .dataframe thead th {\n",
       "        text-align: right;\n",
       "    }\n",
       "</style>\n",
       "<table border=\"1\" class=\"dataframe\">\n",
       "  <thead>\n",
       "    <tr style=\"text-align: right;\">\n",
       "      <th></th>\n",
       "      <th>ename</th>\n",
       "      <th>sal</th>\n",
       "      <th>lag</th>\n",
       "    </tr>\n",
       "  </thead>\n",
       "  <tbody>\n",
       "    <tr>\n",
       "      <td>0</td>\n",
       "      <td>SMITH</td>\n",
       "      <td>800</td>\n",
       "      <td>0</td>\n",
       "    </tr>\n",
       "    <tr>\n",
       "      <td>1</td>\n",
       "      <td>WARD</td>\n",
       "      <td>1250</td>\n",
       "      <td>0</td>\n",
       "    </tr>\n",
       "    <tr>\n",
       "      <td>2</td>\n",
       "      <td>MARTIN</td>\n",
       "      <td>1250</td>\n",
       "      <td>800</td>\n",
       "    </tr>\n",
       "    <tr>\n",
       "      <td>3</td>\n",
       "      <td>ALLEN</td>\n",
       "      <td>1600</td>\n",
       "      <td>1250</td>\n",
       "    </tr>\n",
       "    <tr>\n",
       "      <td>4</td>\n",
       "      <td>JONES</td>\n",
       "      <td>2975</td>\n",
       "      <td>1250</td>\n",
       "    </tr>\n",
       "    <tr>\n",
       "      <td>5</td>\n",
       "      <td>FORD</td>\n",
       "      <td>3000</td>\n",
       "      <td>1600</td>\n",
       "    </tr>\n",
       "  </tbody>\n",
       "</table>\n",
       "</div>"
      ],
      "text/plain": [
       "    ename   sal   lag\n",
       "0   SMITH   800     0\n",
       "1    WARD  1250     0\n",
       "2  MARTIN  1250   800\n",
       "3   ALLEN  1600  1250\n",
       "4   JONES  2975  1250\n",
       "5    FORD  3000  1600"
      ]
     },
     "execution_count": 31,
     "metadata": {},
     "output_type": "execute_result"
    }
   ],
   "source": [
    "# LAG ()\n",
    "\n",
    "cur.execute(\"\"\"\n",
    "SELECT ename, sal, LAG(sal,2,0) OVER (ORDER BY sal) lag\n",
    "FROM emp; \"\"\")\n",
    "\n",
    "\n",
    "pd.DataFrame(cur.fetchall(),columns = [item[0] for item in cur.description])"
   ]
  },
  {
   "cell_type": "code",
   "execution_count": 33,
   "metadata": {},
   "outputs": [
    {
     "data": {
      "text/html": [
       "<div>\n",
       "<style scoped>\n",
       "    .dataframe tbody tr th:only-of-type {\n",
       "        vertical-align: middle;\n",
       "    }\n",
       "\n",
       "    .dataframe tbody tr th {\n",
       "        vertical-align: top;\n",
       "    }\n",
       "\n",
       "    .dataframe thead th {\n",
       "        text-align: right;\n",
       "    }\n",
       "</style>\n",
       "<table border=\"1\" class=\"dataframe\">\n",
       "  <thead>\n",
       "    <tr style=\"text-align: right;\">\n",
       "      <th></th>\n",
       "      <th>ename</th>\n",
       "      <th>sal</th>\n",
       "      <th>lead</th>\n",
       "    </tr>\n",
       "  </thead>\n",
       "  <tbody>\n",
       "    <tr>\n",
       "      <td>0</td>\n",
       "      <td>SMITH</td>\n",
       "      <td>800</td>\n",
       "      <td>1250</td>\n",
       "    </tr>\n",
       "    <tr>\n",
       "      <td>1</td>\n",
       "      <td>WARD</td>\n",
       "      <td>1250</td>\n",
       "      <td>1600</td>\n",
       "    </tr>\n",
       "    <tr>\n",
       "      <td>2</td>\n",
       "      <td>MARTIN</td>\n",
       "      <td>1250</td>\n",
       "      <td>2975</td>\n",
       "    </tr>\n",
       "    <tr>\n",
       "      <td>3</td>\n",
       "      <td>ALLEN</td>\n",
       "      <td>1600</td>\n",
       "      <td>3000</td>\n",
       "    </tr>\n",
       "    <tr>\n",
       "      <td>4</td>\n",
       "      <td>JONES</td>\n",
       "      <td>2975</td>\n",
       "      <td>0</td>\n",
       "    </tr>\n",
       "    <tr>\n",
       "      <td>5</td>\n",
       "      <td>FORD</td>\n",
       "      <td>3000</td>\n",
       "      <td>0</td>\n",
       "    </tr>\n",
       "  </tbody>\n",
       "</table>\n",
       "</div>"
      ],
      "text/plain": [
       "    ename   sal  lead\n",
       "0   SMITH   800  1250\n",
       "1    WARD  1250  1600\n",
       "2  MARTIN  1250  2975\n",
       "3   ALLEN  1600  3000\n",
       "4   JONES  2975     0\n",
       "5    FORD  3000     0"
      ]
     },
     "execution_count": 33,
     "metadata": {},
     "output_type": "execute_result"
    }
   ],
   "source": [
    "# LEAD ()\n",
    "\n",
    "cur.execute(\"\"\"\n",
    "SELECT ename, sal, LEAD(sal,2,0) OVER (ORDER BY sal) lead \n",
    "FROM emp; \"\"\")\n",
    "\n",
    "\n",
    "pd.DataFrame(cur.fetchall(),columns = [item[0] for item in cur.description])"
   ]
  },
  {
   "cell_type": "code",
   "execution_count": 34,
   "metadata": {},
   "outputs": [
    {
     "data": {
      "text/html": [
       "<div>\n",
       "<style scoped>\n",
       "    .dataframe tbody tr th:only-of-type {\n",
       "        vertical-align: middle;\n",
       "    }\n",
       "\n",
       "    .dataframe tbody tr th {\n",
       "        vertical-align: top;\n",
       "    }\n",
       "\n",
       "    .dataframe thead th {\n",
       "        text-align: right;\n",
       "    }\n",
       "</style>\n",
       "<table border=\"1\" class=\"dataframe\">\n",
       "  <thead>\n",
       "    <tr style=\"text-align: right;\">\n",
       "      <th></th>\n",
       "      <th>empno</th>\n",
       "      <th>ename</th>\n",
       "      <th>deptno</th>\n",
       "      <th>sal</th>\n",
       "      <th>SUM(sal) OVER(PARTITION BY deptno)</th>\n",
       "    </tr>\n",
       "  </thead>\n",
       "  <tbody>\n",
       "    <tr>\n",
       "      <td>0</td>\n",
       "      <td>7369</td>\n",
       "      <td>SMITH</td>\n",
       "      <td>20</td>\n",
       "      <td>800</td>\n",
       "      <td>6775</td>\n",
       "    </tr>\n",
       "    <tr>\n",
       "      <td>1</td>\n",
       "      <td>7566</td>\n",
       "      <td>JONES</td>\n",
       "      <td>20</td>\n",
       "      <td>2975</td>\n",
       "      <td>6775</td>\n",
       "    </tr>\n",
       "    <tr>\n",
       "      <td>2</td>\n",
       "      <td>7902</td>\n",
       "      <td>FORD</td>\n",
       "      <td>20</td>\n",
       "      <td>3000</td>\n",
       "      <td>6775</td>\n",
       "    </tr>\n",
       "    <tr>\n",
       "      <td>3</td>\n",
       "      <td>7499</td>\n",
       "      <td>ALLEN</td>\n",
       "      <td>30</td>\n",
       "      <td>1600</td>\n",
       "      <td>4100</td>\n",
       "    </tr>\n",
       "    <tr>\n",
       "      <td>4</td>\n",
       "      <td>7521</td>\n",
       "      <td>WARD</td>\n",
       "      <td>30</td>\n",
       "      <td>1250</td>\n",
       "      <td>4100</td>\n",
       "    </tr>\n",
       "    <tr>\n",
       "      <td>5</td>\n",
       "      <td>7654</td>\n",
       "      <td>MARTIN</td>\n",
       "      <td>30</td>\n",
       "      <td>1250</td>\n",
       "      <td>4100</td>\n",
       "    </tr>\n",
       "  </tbody>\n",
       "</table>\n",
       "</div>"
      ],
      "text/plain": [
       "   empno   ename  deptno   sal  SUM(sal) OVER(PARTITION BY deptno)\n",
       "0   7369   SMITH      20   800                                6775\n",
       "1   7566   JONES      20  2975                                6775\n",
       "2   7902    FORD      20  3000                                6775\n",
       "3   7499   ALLEN      30  1600                                4100\n",
       "4   7521    WARD      30  1250                                4100\n",
       "5   7654  MARTIN      30  1250                                4100"
      ]
     },
     "execution_count": 34,
     "metadata": {},
     "output_type": "execute_result"
    }
   ],
   "source": [
    "# group function \n",
    "# sum()\n",
    "\n",
    "cur.execute(\"\"\"\n",
    "SELECT empno, ename, deptno, sal, SUM(sal) OVER(PARTITION BY deptno) FROM emp; \"\"\")\n",
    "\n",
    "pd.DataFrame(cur.fetchall(),columns= [ item[0]for item in cur.description])"
   ]
  },
  {
   "cell_type": "code",
   "execution_count": 42,
   "metadata": {},
   "outputs": [
    {
     "data": {
      "text/html": [
       "<div>\n",
       "<style scoped>\n",
       "    .dataframe tbody tr th:only-of-type {\n",
       "        vertical-align: middle;\n",
       "    }\n",
       "\n",
       "    .dataframe tbody tr th {\n",
       "        vertical-align: top;\n",
       "    }\n",
       "\n",
       "    .dataframe thead th {\n",
       "        text-align: right;\n",
       "    }\n",
       "</style>\n",
       "<table border=\"1\" class=\"dataframe\">\n",
       "  <thead>\n",
       "    <tr style=\"text-align: right;\">\n",
       "      <th></th>\n",
       "      <th>empno</th>\n",
       "      <th>ename</th>\n",
       "      <th>deptno</th>\n",
       "      <th>sal</th>\n",
       "      <th>count(sal) OVER(PARTITION BY deptno ORDER BY deptno)</th>\n",
       "    </tr>\n",
       "  </thead>\n",
       "  <tbody>\n",
       "    <tr>\n",
       "      <td>0</td>\n",
       "      <td>7369</td>\n",
       "      <td>SMITH</td>\n",
       "      <td>20</td>\n",
       "      <td>800</td>\n",
       "      <td>3</td>\n",
       "    </tr>\n",
       "    <tr>\n",
       "      <td>1</td>\n",
       "      <td>7566</td>\n",
       "      <td>JONES</td>\n",
       "      <td>20</td>\n",
       "      <td>2975</td>\n",
       "      <td>3</td>\n",
       "    </tr>\n",
       "    <tr>\n",
       "      <td>2</td>\n",
       "      <td>7902</td>\n",
       "      <td>FORD</td>\n",
       "      <td>20</td>\n",
       "      <td>3000</td>\n",
       "      <td>3</td>\n",
       "    </tr>\n",
       "    <tr>\n",
       "      <td>3</td>\n",
       "      <td>7499</td>\n",
       "      <td>ALLEN</td>\n",
       "      <td>30</td>\n",
       "      <td>1600</td>\n",
       "      <td>3</td>\n",
       "    </tr>\n",
       "    <tr>\n",
       "      <td>4</td>\n",
       "      <td>7521</td>\n",
       "      <td>WARD</td>\n",
       "      <td>30</td>\n",
       "      <td>1250</td>\n",
       "      <td>3</td>\n",
       "    </tr>\n",
       "    <tr>\n",
       "      <td>5</td>\n",
       "      <td>7654</td>\n",
       "      <td>MARTIN</td>\n",
       "      <td>30</td>\n",
       "      <td>1250</td>\n",
       "      <td>3</td>\n",
       "    </tr>\n",
       "  </tbody>\n",
       "</table>\n",
       "</div>"
      ],
      "text/plain": [
       "   empno   ename  deptno   sal  \\\n",
       "0   7369   SMITH      20   800   \n",
       "1   7566   JONES      20  2975   \n",
       "2   7902    FORD      20  3000   \n",
       "3   7499   ALLEN      30  1600   \n",
       "4   7521    WARD      30  1250   \n",
       "5   7654  MARTIN      30  1250   \n",
       "\n",
       "   count(sal) OVER(PARTITION BY deptno ORDER BY deptno)  \n",
       "0                                                  3     \n",
       "1                                                  3     \n",
       "2                                                  3     \n",
       "3                                                  3     \n",
       "4                                                  3     \n",
       "5                                                  3     "
      ]
     },
     "execution_count": 42,
     "metadata": {},
     "output_type": "execute_result"
    }
   ],
   "source": [
    "# group function \n",
    "# sum()\n",
    "\n",
    "cur.execute(\"\"\"\n",
    "SELECT empno, ename, deptno, sal, count(sal) OVER(PARTITION BY deptno ORDER BY deptno) FROM emp; \"\"\")\n",
    "\n",
    "pd.DataFrame(cur.fetchall(),columns= [ item[0]for item in cur.description])"
   ]
  },
  {
   "cell_type": "code",
   "execution_count": 44,
   "metadata": {},
   "outputs": [
    {
     "data": {
      "text/plain": [
       "[(7369, 'SMITH', 'CLERK', 7902, '17-DEC-80', 800, None, 20),\n",
       " (7499, 'ALLEN', 'SALESMAN', 7698, '20-FEB-81', 1600, 300, 30),\n",
       " (7521, 'WARD', 'SALESMAN', 7698, '22-FEB-81', 1250, 500, 30),\n",
       " (7566, 'JONES', 'MANAGER', 7839, '2-APR-81', 2975, None, 20),\n",
       " (7654, 'MARTIN', 'SALESMAN', 7839, '2-APR-81', 1250, 1400, 30),\n",
       " (7902, 'FORD', 'ANALYST', 7566, '3-DEC-81', 3000, None, 20)]"
      ]
     },
     "execution_count": 44,
     "metadata": {},
     "output_type": "execute_result"
    }
   ],
   "source": [
    "cur.execute(\"\"\"\n",
    "select * from emp\"\"\").fetchall()"
   ]
  },
  {
   "cell_type": "code",
   "execution_count": 45,
   "metadata": {},
   "outputs": [
    {
     "data": {
      "text/plain": [
       "<sqlite3.Cursor at 0x7f8f1c3f8ea0>"
      ]
     },
     "execution_count": 45,
     "metadata": {},
     "output_type": "execute_result"
    }
   ],
   "source": [
    "# create simple table emp_company  using simple syntax\n",
    "cur.execute(\"\"\"\n",
    "CREATE TABLE emp_company\n",
    "(\n",
    "ename varchar(10) not null,\n",
    "cname varchar(20),\n",
    "salary Number(7,2),\n",
    "jdate date\n",
    ");\n",
    "\"\"\")"
   ]
  },
  {
   "cell_type": "code",
   "execution_count": 46,
   "metadata": {},
   "outputs": [
    {
     "data": {
      "text/plain": [
       "[]"
      ]
     },
     "execution_count": 46,
     "metadata": {},
     "output_type": "execute_result"
    }
   ],
   "source": [
    "cur.execute(\"\"\"\n",
    "select * from emp_company\"\"\").fetchall()"
   ]
  },
  {
   "cell_type": "code",
   "execution_count": 47,
   "metadata": {},
   "outputs": [
    {
     "data": {
      "text/plain": [
       "<sqlite3.Cursor at 0x7f8f1c3f8ea0>"
      ]
     },
     "execution_count": 47,
     "metadata": {},
     "output_type": "execute_result"
    }
   ],
   "source": [
    "# create simple table emp_company2 with help of emp table\n",
    "cur.execute(\"\"\"\n",
    "CREATE TABLE emp_company2 As \n",
    "Select * from emp where 1 =2;\n",
    "\"\"\")"
   ]
  },
  {
   "cell_type": "code",
   "execution_count": 48,
   "metadata": {},
   "outputs": [
    {
     "data": {
      "text/plain": [
       "[]"
      ]
     },
     "execution_count": 48,
     "metadata": {},
     "output_type": "execute_result"
    }
   ],
   "source": [
    "# check emp_company2\n",
    "\n",
    "cur.execute(\"\"\"\n",
    "select * from emp_company2\"\"\").fetchall()"
   ]
  },
  {
   "cell_type": "code",
   "execution_count": 49,
   "metadata": {},
   "outputs": [
    {
     "data": {
      "text/plain": [
       "<sqlite3.Cursor at 0x7f8f1c3f8ea0>"
      ]
     },
     "execution_count": 49,
     "metadata": {},
     "output_type": "execute_result"
    }
   ],
   "source": [
    "# create simple table emp_company1 with help of emp table\n",
    "# condition deptno =2 \n",
    "cur.execute(\"\"\"\n",
    "CREATE TABLE emp_company1 As \n",
    "Select * from emp where deptno = 20;\n",
    "\"\"\")"
   ]
  },
  {
   "cell_type": "code",
   "execution_count": 50,
   "metadata": {},
   "outputs": [
    {
     "data": {
      "text/plain": [
       "[(7369, 'SMITH', 'CLERK', 7902, '17-DEC-80', 800, None, 20),\n",
       " (7566, 'JONES', 'MANAGER', 7839, '2-APR-81', 2975, None, 20),\n",
       " (7902, 'FORD', 'ANALYST', 7566, '3-DEC-81', 3000, None, 20)]"
      ]
     },
     "execution_count": 50,
     "metadata": {},
     "output_type": "execute_result"
    }
   ],
   "source": [
    "# check emp_company1\n",
    "\n",
    "cur.execute(\"\"\"\n",
    "select * from emp_company1\"\"\").fetchall()"
   ]
  },
  {
   "cell_type": "code",
   "execution_count": 52,
   "metadata": {},
   "outputs": [
    {
     "data": {
      "text/plain": [
       "<sqlite3.Cursor at 0x7f8f1c3f8ea0>"
      ]
     },
     "execution_count": 52,
     "metadata": {},
     "output_type": "execute_result"
    }
   ],
   "source": [
    "# create emp_shift table by using table create syntax\n",
    "\n",
    "\n",
    "cur.execute(\"\"\"\n",
    "CREATE TABLE emp_shift\n",
    "(\n",
    "ename varchar(10) not null,\n",
    "salary Number(7,2)\n",
    ");\n",
    "\"\"\")"
   ]
  },
  {
   "cell_type": "code",
   "execution_count": 55,
   "metadata": {},
   "outputs": [
    {
     "data": {
      "text/plain": [
       "<sqlite3.Cursor at 0x7f8f1c3f8ea0>"
      ]
     },
     "execution_count": 55,
     "metadata": {},
     "output_type": "execute_result"
    }
   ],
   "source": [
    "# 2. insert with selected columns name from another table  and condition\n",
    "\n",
    "cur.execute(\"\"\"\n",
    "INSERT INTO emp_shift (ename,salary) \n",
    "SELECT ename,sal FROM emp_company1\n",
    "WHERE ename = 'SMITH';\n",
    "\"\"\")\n",
    "\n",
    "\n",
    "\n",
    "\n",
    "\n"
   ]
  },
  {
   "cell_type": "code",
   "execution_count": null,
   "metadata": {},
   "outputs": [],
   "source": []
  }
 ],
 "metadata": {
  "kernelspec": {
   "display_name": "Python 3",
   "language": "python",
   "name": "python3"
  },
  "language_info": {
   "codemirror_mode": {
    "name": "ipython",
    "version": 3
   },
   "file_extension": ".py",
   "mimetype": "text/x-python",
   "name": "python",
   "nbconvert_exporter": "python",
   "pygments_lexer": "ipython3",
   "version": "3.7.4"
  }
 },
 "nbformat": 4,
 "nbformat_minor": 4
}
